{
 "cells": [
  {
   "cell_type": "code",
   "execution_count": 1,
   "metadata": {},
   "outputs": [],
   "source": [
    "import sys\n",
    "sys.path.append(\"..\")\n",
    "\n",
    "from datetime import datetime\n",
    "import numpy as np\n",
    "from tqdm import tqdm\n",
    "import matplotlib.pyplot as plt\n",
    "from lib.utils import get_samples_from_folder\n",
    "from copy import deepcopy\n",
    "import pandas as pd\n",
    "from lib.features import WPTFeatureExtractor\n",
    "from typing import Tuple\n",
    "import pickle \n",
    "\n",
    "from models.metric_learning import (\n",
    "    DataLoader,\n",
    "    FeatureReducer,\n",
    "    get_proba_per_sample,\n",
    "    create_triplets_idx,\n",
    "    TripletDataset,\n",
    "    FeatureReducerScikit\n",
    ")\n",
    "\n",
    "from sklearn.pipeline import Pipeline"
   ]
  },
  {
   "cell_type": "code",
   "execution_count": null,
   "metadata": {},
   "outputs": [],
   "source": [
    "plt.style.use(\"default\")"
   ]
  },
  {
   "cell_type": "code",
   "execution_count": null,
   "metadata": {},
   "outputs": [],
   "source": [
    "PARAMS = {\n",
    "    \"level\": 6,\n",
    "    \"family\": \"db16\",\n",
    "    \"d\": 2,\n",
    "}"
   ]
  },
  {
   "cell_type": "code",
   "execution_count": null,
   "metadata": {},
   "outputs": [],
   "source": [
    "level = PARAMS[\"level\"]\n",
    "family = PARAMS[\"family\"]\n",
    "d = PARAMS[\"d\"]"
   ]
  },
  {
   "cell_type": "code",
   "execution_count": null,
   "metadata": {},
   "outputs": [],
   "source": [
    "PATH_TO_DATASET_1 = \"/workspaces/project/raw/sequence_1/\"\n",
    "PATH_TO_DATASET_2 = \"/workspaces/project/raw/sequence_2/\"\n",
    "PATH_MODELS = \"../models/metric_learning/models_repo\""
   ]
  },
  {
   "cell_type": "code",
   "execution_count": null,
   "metadata": {},
   "outputs": [],
   "source": [
    "fe = WPTFeatureExtractor(\n",
    "    level = level,\n",
    "    family = family,\n",
    "    reduction = \"energy\",\n",
    "    normalize = True\n",
    ")"
   ]
  },
  {
   "cell_type": "code",
   "execution_count": null,
   "metadata": {},
   "outputs": [],
   "source": [
    "for cable in range(1,5):\n",
    "    print(cable)\n",
    "    valid_date = datetime(2023, 1, 7, 10, 00)\n",
    "    dataset_per_cable = get_samples_from_folder(PATH_TO_DATASET_2, valid_date)\n",
    "    x = dataset_per_cable[f\"c{cable}\"][[\"y\", \"z\"]].to_numpy()\n",
    "    del dataset_per_cable\n",
    "    x_wpt = fe.transform(x)\n",
    "    fr = FeatureReducerScikit()\n",
    "    fr.fit(x_wpt, d=d, num_epochs=50)\n",
    "\n",
    "    output = {\n",
    "        \"feature_extraction\": fe,\n",
    "        \"feature_reductor\": fr,\n",
    "        \"params\": PARAMS\n",
    "    }\n",
    "\n",
    "    filename = f\"c{cable}_l{level}_f{family}_d{d}.pkl\"\n",
    "\n",
    "    with open(f\"{PATH_MODELS}/{filename}\", \"wb\") as h:\n",
    "        pickle.dump(output, h, protocol=pickle.HIGHEST_PROTOCOL)"
   ]
  }
 ],
 "metadata": {
  "kernelspec": {
   "display_name": "base",
   "language": "python",
   "name": "python3"
  },
  "language_info": {
   "codemirror_mode": {
    "name": "ipython",
    "version": 3
   },
   "file_extension": ".py",
   "mimetype": "text/x-python",
   "name": "python",
   "nbconvert_exporter": "python",
   "pygments_lexer": "ipython3",
   "version": "3.8.16"
  },
  "orig_nbformat": 4
 },
 "nbformat": 4,
 "nbformat_minor": 2
}
